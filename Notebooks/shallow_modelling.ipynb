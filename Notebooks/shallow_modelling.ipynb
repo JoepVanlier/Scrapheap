{
 "cells": [
  {
   "cell_type": "code",
   "execution_count": 1,
   "metadata": {},
   "outputs": [],
   "source": [
    "import numpy as np\n",
    "import scipy as sp\n",
    "from scipy.io import wavfile\n",
    "import matplotlib.pyplot as plt\n",
    "import soundfile as sf\n",
    "from skimage.measure import block_reduce\n",
    "from scipy.signal import find_peaks\n",
    "from scipy.fft import fft\n",
    "\n",
    "%matplotlib widget"
   ]
  },
  {
   "cell_type": "code",
   "execution_count": 4,
   "metadata": {},
   "outputs": [
    {
     "name": "stderr",
     "output_type": "stream",
     "text": [
      "e:\\ProgramData\\Anaconda3\\lib\\site-packages\\ipykernel_launcher.py:1: WavFileWarning: Chunk (non-data) not understood, skipping it.\n",
      "  \"\"\"Entry point for launching an IPython kernel.\n",
      "e:\\ProgramData\\Anaconda3\\lib\\site-packages\\ipykernel_launcher.py:4: WavFileWarning: Chunk (non-data) not understood, skipping it.\n",
      "  after removing the cwd from sys.path.\n",
      "e:\\ProgramData\\Anaconda3\\lib\\site-packages\\ipykernel_launcher.py:7: WavFileWarning: Chunk (non-data) not understood, skipping it.\n",
      "  import sys\n"
     ]
    },
    {
     "data": {
      "application/vnd.jupyter.widget-view+json": {
       "model_id": "61e574dd885649d9b66307656cdef639",
       "version_major": 2,
       "version_minor": 0
      },
      "text/plain": [
       "Canvas(toolbar=Toolbar(toolitems=[('Home', 'Reset original view', 'home', 'home'), ('Back', 'Back to previous …"
      ]
     },
     "metadata": {},
     "output_type": "display_data"
    }
   ],
   "source": [
    "fs, lpg25 = wavfile.read(\"28_(18;41).wav\")\n",
    "lpg25 = lpg25[:, 1]\n",
    "\n",
    "fs, lpg50 = wavfile.read(\"28_(18;31)-001.wav\")\n",
    "lpg50 = lpg50[:, 1]\n",
    "\n",
    "fs, lpg100 = wavfile.read(\"28_(18;36).wav\")\n",
    "lpg100 = lpg100[:, 1]\n",
    "\n",
    "plt.close('all')\n",
    "plt.figure()\n",
    "plt.plot(lpg50)\n",
    "plt.show()"
   ]
  },
  {
   "cell_type": "code",
   "execution_count": 9,
   "metadata": {},
   "outputs": [],
   "source": [
    "# Data extraction\n",
    "data = lpg100[start:start+length];\n",
    "\n",
    "# Extract multiple spikes post noise bursts\n",
    "def extract_trains(data, ds_ratio):\n",
    "    ds = block_reduce(np.abs(data), (ds_ratio,), func=np.mean)\n",
    "    peaks = find_peaks(ds, width=2000*30/ds_ratio)[0]\n",
    "    chunks = [ds[int(a) : int(b)] for a, b in zip(peaks[:-1], peaks[1:])]\n",
    "\n",
    "    ranges = []\n",
    "    for a, b in zip(peaks[:-1], peaks[1:]):\n",
    "        chunk = ds[int(a) : int(b)]\n",
    "        mn = np.min(chunk) + .3 * (np.max(chunk) - np.min(chunk))\n",
    "        mask = chunk < mn\n",
    "        i1 = np.argwhere(mask)[0][0]\n",
    "        i2 = np.argwhere(np.flip(mask))[0][0]\n",
    "        ranges.append([a + i1 + 1, b - i2 - 3])\n",
    "\n",
    "    timestamps = [np.arange(int(a*ds_ratio), int(b*ds_ratio)) for a, b in ranges]\n",
    "    sliced = [data[int(a*ds_ratio) : int(b*ds_ratio)] for a, b in ranges]\n",
    "    \n",
    "    return timestamps, sliced\n",
    "    \n",
    "# Extract individual impulses\n",
    "def extract_impulses(data, window = [100, 1000], thresh=3e6, max_impulses=30):\n",
    "    data_copy = np.copy(data)\n",
    "    last_impulse = np.inf\n",
    "    impulses = []\n",
    "    n_impulses = 0\n",
    "    while last_impulse > thresh:\n",
    "        i = np.argmax(np.abs(data_copy))\n",
    "        last_impulse = np.abs(data_copy[i])\n",
    "        impulses.append(data[i-window[0]:i+window[1]])\n",
    "        data_copy[max([0, i-window[0]]):min([len(data), i+window[1]])] = 0\n",
    "        n_impulses += 1\n",
    "        if n_impulses > max_impulses:\n",
    "            break\n",
    "        \n",
    "    return impulses[1:]"
   ]
  },
  {
   "cell_type": "code",
   "execution_count": 10,
   "metadata": {},
   "outputs": [],
   "source": [
    "# Spectrum calculation and plotting\n",
    "def calc_spectrum(y):\n",
    "    N = len(y)\n",
    "    yf = fft(y, N)\n",
    "    return 20.0 * np.log10((2.0 / N) * (np.abs(yf[0:N//2])))\n",
    "\n",
    "def plot_spectrum(y, fs, N=None, c=None, omit=None, linestyle='-'):\n",
    "    T = 1.0/fs\n",
    "    N = len(y) if N is None else N\n",
    "    if N > 0:\n",
    "        yf = fft(y, N)\n",
    "        xf = np.linspace(0.0, 1.0/(2.0*T), N//2)\n",
    "        color = np.array([1.0-c, 0.0, c]) if c is not None else None\n",
    "        color = color * .5 if linestyle == '--' else color\n",
    "        plt.plot(xf[:omit], 20 * np.log10((2.0 / N) * (np.abs(yf[0:N//2])))[:omit], linestyle=linestyle, color=color)\n",
    "        plt.xscale('log')\n",
    "        \n",
    "plot_spectrum(np.array([1,2,3,4,5,6]), 100)"
   ]
  },
  {
   "cell_type": "code",
   "execution_count": 11,
   "metadata": {},
   "outputs": [],
   "source": [
    "# Code to simulate and fit filter models\n",
    "\n",
    "from numba import njit\n",
    "from scipy.optimize import least_squares\n",
    "\n",
    "class tpt():\n",
    "    def __init__(self, cutoff):\n",
    "        g = np.tan(np.pi * cutoff);\n",
    "        self.coeff = g / (1.0 + g)\n",
    "        self.s = 0\n",
    "    \n",
    "    def lp(self, x):\n",
    "        x, self.s = tpt.eval_lp(x, self.coeff, self.s)\n",
    "        return x\n",
    "    \n",
    "    def hp(self, x):\n",
    "        lp = np.copy(x)\n",
    "        lp, self.s = tpt.eval_lp(lp, self.coeff, self.s)\n",
    "        return x - lp\n",
    "    \n",
    "    @njit\n",
    "    def eval_lp(x, coeff, s):\n",
    "        for i in range(len(x)):\n",
    "            v = coeff*(x[i] - s)\n",
    "            y = v + s\n",
    "            s = y + v\n",
    "            x[i] = y\n",
    "        \n",
    "        return x, s\n",
    "\n",
    "class svf():\n",
    "    def __init__(self, cutoff, res):\n",
    "        g = np.tan(np.pi * cutoff)\n",
    "        self.k = 2.0 - 2.0 * res\n",
    "        \n",
    "        self.ic2eq = 0.0\n",
    "        self.ic1eq = 0.0\n",
    "        self.a1 = 1.0 / (1.0 + g * (g + self.k))\n",
    "        self.a2 = g * self.a1\n",
    "        self.a3 = g * self.a2\n",
    "    \n",
    "    @njit\n",
    "    def eval_lp(x, a1, a2, a3, k, ic1eq, ic2eq):\n",
    "        for i in range(len(x)):\n",
    "            v3 = x[i] - ic2eq\n",
    "            v1 = a1 * ic1eq + a2 * v3\n",
    "            v2 = ic2eq + a2 * ic1eq + a3 * v3\n",
    "            ic1eq = 2.0 * v1 - ic1eq\n",
    "            ic2eq = 2.0 * v2 - ic2eq\n",
    "            x[i] = v2\n",
    "    \n",
    "        return x, ic1eq, ic2eq\n",
    "    \n",
    "    @njit\n",
    "    def eval_hp(x, a1, a2, a3, k, ic1eq, ic2eq):\n",
    "        for i in range(len(x)):\n",
    "            v3 = x[i] - ic2eq\n",
    "            v1 = a1 * ic1eq + a2 * v3\n",
    "            v2 = ic2eq + a2 * ic1eq + a3 * v3\n",
    "            ic1eq = 2.0 * v1 - ic1eq\n",
    "            ic2eq = 2.0 * v2 - ic2eq\n",
    "            x[i] = x[i] - k * v1 - v2\n",
    "   \n",
    "        return x, ic1eq, ic2eq\n",
    "    \n",
    "    def lp(self, x):\n",
    "        result, ic1eq, ic2eq = svf.eval_lp(x, self.a1, self.a2, self.a3, self.k, self.ic1eq, self.ic2eq)\n",
    "        self.ic1eq = ic1eq\n",
    "        self.ic2eq = ic2eq\n",
    "        return result\n",
    "        \n",
    "    def hp(self, x):\n",
    "        result, ic1eq, ic2eq = svf.eval_hp(x, self.a1, self.a2, self.a3, self.k, self.ic1eq, self.ic2eq)\n",
    "        self.ic1eq = ic1eq\n",
    "        self.ic2eq = ic2eq\n",
    "        return result\n",
    "\n",
    "def fit_model(current_data):\n",
    "    init = [440/fs, 5000.0/fs, 1.0]\n",
    "    init[1] = .03 \n",
    "\n",
    "    def model(x, p):\n",
    "        k = np.zeros(len(x), dtype=np.float)\n",
    "        k[0] = p[2]\n",
    "        return tpt(p[0]).hp(svf(p[1], 0.0).lp(k))\n",
    "\n",
    "    current_data = current_data / 1500000000.0\n",
    "    data = calc_spectrum(current_data)\n",
    "    valid = data > -90\n",
    "    valid[0:2] = False\n",
    "    valid[-90:] = False\n",
    "    def residual(x, p):\n",
    "        return (data - calc_spectrum(model(x, p)))[valid]\n",
    "\n",
    "    res = least_squares(lambda x: residual(current_data, x), init, loss='soft_l1', method='trf', bounds=([0, 0, 0], [.9999, .9999, 10]), verbose=0, xtol=2.3e-16, ftol=1e-12) # , \n",
    "    \n",
    "    return res.x, model(current_data, res.x)*1500000000.0"
   ]
  },
  {
   "cell_type": "code",
   "execution_count": 13,
   "metadata": {},
   "outputs": [
    {
     "data": {
      "application/vnd.jupyter.widget-view+json": {
       "model_id": "5af5762b71294655b4924ca1cf7f491f",
       "version_major": 2,
       "version_minor": 0
      },
      "text/plain": [
       "Canvas(toolbar=Toolbar(toolitems=[('Home', 'Reset original view', 'home', 'home'), ('Back', 'Back to previous …"
      ]
     },
     "metadata": {},
     "output_type": "display_data"
    },
    {
     "name": "stdout",
     "output_type": "stream",
     "text": [
      "1\n"
     ]
    },
    {
     "name": "stderr",
     "output_type": "stream",
     "text": [
      "e:\\ProgramData\\Anaconda3\\lib\\site-packages\\ipykernel_launcher.py:5: RuntimeWarning: divide by zero encountered in log10\n",
      "  \"\"\"\n",
      "e:\\ProgramData\\Anaconda3\\lib\\site-packages\\ipykernel_launcher.py:5: RuntimeWarning: divide by zero encountered in log10\n",
      "  \"\"\"\n",
      "e:\\ProgramData\\Anaconda3\\lib\\site-packages\\ipykernel_launcher.py:5: RuntimeWarning: divide by zero encountered in log10\n",
      "  \"\"\"\n"
     ]
    },
    {
     "name": "stdout",
     "output_type": "stream",
     "text": [
      "2\n",
      "3\n"
     ]
    },
    {
     "name": "stderr",
     "output_type": "stream",
     "text": [
      "e:\\ProgramData\\Anaconda3\\lib\\site-packages\\ipykernel_launcher.py:5: RuntimeWarning: divide by zero encountered in log10\n",
      "  \"\"\"\n",
      "e:\\ProgramData\\Anaconda3\\lib\\site-packages\\ipykernel_launcher.py:5: RuntimeWarning: divide by zero encountered in log10\n",
      "  \"\"\"\n",
      "e:\\ProgramData\\Anaconda3\\lib\\site-packages\\ipykernel_launcher.py:5: RuntimeWarning: divide by zero encountered in log10\n",
      "  \"\"\"\n",
      "e:\\ProgramData\\Anaconda3\\lib\\site-packages\\ipykernel_launcher.py:5: RuntimeWarning: divide by zero encountered in log10\n",
      "  \"\"\"\n"
     ]
    },
    {
     "name": "stdout",
     "output_type": "stream",
     "text": [
      "4\n"
     ]
    },
    {
     "name": "stderr",
     "output_type": "stream",
     "text": [
      "e:\\ProgramData\\Anaconda3\\lib\\site-packages\\ipykernel_launcher.py:5: RuntimeWarning: divide by zero encountered in log10\n",
      "  \"\"\"\n"
     ]
    },
    {
     "name": "stdout",
     "output_type": "stream",
     "text": [
      "5\n"
     ]
    },
    {
     "name": "stderr",
     "output_type": "stream",
     "text": [
      "e:\\ProgramData\\Anaconda3\\lib\\site-packages\\ipykernel_launcher.py:5: RuntimeWarning: divide by zero encountered in log10\n",
      "  \"\"\"\n"
     ]
    },
    {
     "name": "stdout",
     "output_type": "stream",
     "text": [
      "6\n"
     ]
    },
    {
     "name": "stderr",
     "output_type": "stream",
     "text": [
      "e:\\ProgramData\\Anaconda3\\lib\\site-packages\\ipykernel_launcher.py:5: RuntimeWarning: divide by zero encountered in log10\n",
      "  \"\"\"\n"
     ]
    }
   ],
   "source": [
    "plt.close('all')\n",
    "\n",
    "pulse = 2 * fs\n",
    "start = int(3.50e6)\n",
    "length = int(3e6)\n",
    "ds_ratio = 800\n",
    "\n",
    "timestamps, sliced = extract_trains(lpg50[start:], ds_ratio)\n",
    "#lpg = 25; max_impulses = 5;\n",
    "#lpg = 50; max_impulses = 8;\n",
    "lpg = 100; max_impulses = 8;\n",
    "\n",
    "gains = np.arange(1, 0, -0.05)\n",
    "\n",
    "plt.figure(figsize=(12, 6))\n",
    "for k in np.arange(1, np.min([len(sliced), 7])):\n",
    "    print(k)\n",
    "    \n",
    "    plt.subplot(2, 3, k)\n",
    "    plt.title(f\"LPG: {lpg}%, Input gain: {20*np.log10(gains[k]):.3} dB\")\n",
    "    impulses = extract_impulses(sliced[k], max_impulses=max_impulses)\n",
    "    \n",
    "    for c, impulse in enumerate(impulses[:max_impulses]):\n",
    "        if len(impulse) > 0:\n",
    "            pars, sim = fit_model(impulse)\n",
    "            plot_spectrum(impulse, fs, c=c/8)\n",
    "            plot_spectrum(sim, fs, c=c/8, linestyle='--')\n",
    "    \n",
    "    plt.ylim([60, 130])\n",
    "    plt.grid()\n",
    "    \n",
    "plt.tight_layout()\n",
    "\n",
    "plt.savefig(f\"lpg_{lpg}.png\")"
   ]
  },
  {
   "cell_type": "code",
   "execution_count": null,
   "metadata": {},
   "outputs": [],
   "source": [
    "plt.close('all')\n",
    "\n",
    "\n",
    "        \n",
    "plt.figure()\n",
    "impulses = extract_impulses(sliced[0], max_impulses=max_impulses)\n",
    "#plot_spectrum(impulses[0] / 1500000000.0, fs=fs)\n",
    "\n",
    "plt.plot(calc_spectrum(impulses[0] / 1500000000.0))"
   ]
  },
  {
   "cell_type": "code",
   "execution_count": null,
   "metadata": {},
   "outputs": [],
   "source": [
    "\n",
    "\n",
    "\n",
    "current_data = impulses[0]\n",
    "pars, simulation = fit_model(current_data)\n",
    "\n",
    "#result = residual(current_data, res.x)\n",
    "#plt.close('all')\n",
    "#plt.figure()\n",
    "#plt.plot(result)\n",
    "\n",
    "plt.close('all')\n",
    "plt.figure()\n",
    "plot_spectrum(current_data, fs=fs)\n",
    "plot_spectrum(simulation, fs=fs, omit=-130)\n",
    "plt.ylim([40, 130])"
   ]
  },
  {
   "cell_type": "code",
   "execution_count": null,
   "metadata": {},
   "outputs": [],
   "source": [
    "print(len())"
   ]
  },
  {
   "cell_type": "code",
   "execution_count": null,
   "metadata": {},
   "outputs": [],
   "source": [
    "ds = block_reduce(np.abs(data), (25000,), func=np.mean)\n",
    "plt.plot(np.abs(np.diff(ds)))"
   ]
  },
  {
   "cell_type": "code",
   "execution_count": null,
   "metadata": {},
   "outputs": [],
   "source": [
    "from scipy.fft import fft\n",
    "\n",
    "\n",
    "#data.shape"
   ]
  },
  {
   "cell_type": "code",
   "execution_count": null,
   "metadata": {},
   "outputs": [],
   "source": [
    "plt.figure()\n",
    "impulses = extract_impulses(chunks[5][pulse:])\n",
    "[plot_spectrum(impulse, fs) for impulse in impulses]\n"
   ]
  },
  {
   "cell_type": "code",
   "execution_count": null,
   "metadata": {},
   "outputs": [],
   "source": [
    "plt.figure()\n",
    "plt.plot(impulses[0])"
   ]
  },
  {
   "cell_type": "code",
   "execution_count": null,
   "metadata": {},
   "outputs": [],
   "source": [
    "def extract_chunks(data, start, chunksize, chunks, ):\n",
    "    return [data[start + i * chunksize : start + (i+1) * chunksize] for i in np.arange(chunks, dtype=np.int)], start + chunks * chunksize\n",
    "        \n",
    "# Slice up the data\n",
    "pulse = 2 * fs\n",
    "steps = int(1.0 / 0.05)\n",
    "dataset = lpg25\n",
    "start = 3527230 + 300\n",
    "chunk = 3681529 - start + 400\n",
    "\n",
    "chunks, ptr = extract_chunks(dataset, start, chunk, steps)\n",
    "\n",
    "plt.figure()\n",
    "plt.subplot(2, 1, 1)\n",
    "plt.plot(np.abs(chunks[0][pulse:]))\n",
    "plt.subplot(2, 1, 2)\n",
    "#impulses = extract_impulses(chunks[0][pulse:])\n",
    "#[plt.plot(impulse) for impulse in impulses]\n",
    "plt.show()"
   ]
  }
 ],
 "metadata": {
  "kernelspec": {
   "display_name": "Python 3",
   "language": "python",
   "name": "python3"
  },
  "language_info": {
   "codemirror_mode": {
    "name": "ipython",
    "version": 3
   },
   "file_extension": ".py",
   "mimetype": "text/x-python",
   "name": "python",
   "nbconvert_exporter": "python",
   "pygments_lexer": "ipython3",
   "version": "3.7.1"
  }
 },
 "nbformat": 4,
 "nbformat_minor": 4
}
